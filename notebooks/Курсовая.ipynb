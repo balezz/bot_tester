{
 "cells": [
  {
   "cell_type": "code",
   "execution_count": 1,
   "metadata": {
    "colab": {
     "base_uri": "https://localhost:8080/"
    },
    "id": "RuzMNA0kYYpk",
    "outputId": "5b76f615-5555-4548-8e19-4a521cbfc315"
   },
   "outputs": [
    {
     "name": "stdout",
     "output_type": "stream",
     "text": [
      "Collecting pytelegrambotapi\n",
      "  Downloading pyTelegramBotAPI-3.7.6.tar.gz (81 kB)\n",
      "\u001b[K     |████████████████████████████████| 81 kB 325 kB/s eta 0:00:01\n",
      "\u001b[?25hRequirement already satisfied: requests in /home/balezz/miniconda3/lib/python3.8/site-packages (from pytelegrambotapi) (2.24.0)\n",
      "Requirement already satisfied: certifi>=2017.4.17 in /home/balezz/miniconda3/lib/python3.8/site-packages (from requests->pytelegrambotapi) (2020.12.5)\n",
      "Requirement already satisfied: idna<3,>=2.5 in /home/balezz/miniconda3/lib/python3.8/site-packages (from requests->pytelegrambotapi) (2.10)\n",
      "Requirement already satisfied: urllib3!=1.25.0,!=1.25.1,<1.26,>=1.21.1 in /home/balezz/miniconda3/lib/python3.8/site-packages (from requests->pytelegrambotapi) (1.25.11)\n",
      "Requirement already satisfied: chardet<4,>=3.0.2 in /home/balezz/miniconda3/lib/python3.8/site-packages (from requests->pytelegrambotapi) (3.0.4)\n",
      "Building wheels for collected packages: pytelegrambotapi\n",
      "  Building wheel for pytelegrambotapi (setup.py) ... \u001b[?25ldone\n",
      "\u001b[?25h  Created wheel for pytelegrambotapi: filename=pyTelegramBotAPI-3.7.6-py3-none-any.whl size=59260 sha256=dc39335c92dbee187d3ed9bb97a1e9d6ba377870e9ce5a4208d4a7bf40f48569\n",
      "  Stored in directory: /home/balezz/.cache/pip/wheels/ba/dd/e5/8a2b015e908d1bb91bf9cef72630eda649f05affb6e0e54b19\n",
      "Successfully built pytelegrambotapi\n",
      "Installing collected packages: pytelegrambotapi\n",
      "Successfully installed pytelegrambotapi-3.7.6\n"
     ]
    }
   ],
   "source": [
    "!pip install pytelegrambotapi"
   ]
  },
  {
   "cell_type": "code",
   "execution_count": 2,
   "metadata": {
    "id": "ywMCGQ56XeWh"
   },
   "outputs": [],
   "source": [
    "import telebot\n",
    "\n",
    "bot = telebot.TeleBot('1409080754:AAHRHF35y-BwFPTF6Mb5REuxILvAg0e0gM4')\n",
    "\n",
    "@bot.message_handler(commands=['start'])\n",
    "def start_message(message):\n",
    "    markup = telebot.types.InlineKeyboardMarkup()\n",
    "    markup.add(telebot.types.InlineKeyboardButton(text='Таблица интегралов', callback_data=1))\n",
    "    markup.add(telebot.types.InlineKeyboardButton(text='Таблица производных', callback_data=2))\n",
    "    markup.add(telebot.types.InlineKeyboardButton(text='Свойства логарифмов', callback_data=3))\n",
    "    markup.add(telebot.types.InlineKeyboardButton(text='Свойства пределов', callback_data=4))\n",
    "    markup.add(telebot.types.InlineKeyboardButton(text='Завершить работу', callback_data=5))\n",
    "    bot.send_message(message.chat.id, text=\"Привет\", reply_markup=markup)\n",
    "\n",
    "@bot.message_handler(content_types=['text']) \n",
    "def get_text_messages(message): \n",
    "  if message.text == \"Привет\": \n",
    "    bot.send_message(message.from_user.id, \"Привет еще раз! Для вызова меню нажми /start\") \n",
    "  else: bot.send_message(message.from_user.id, \"Я тебя не понимаю. Напиши /start.\")\n",
    "\n",
    "@bot.callback_query_handler(func=lambda call: True)\n",
    "def query_handler(call):\n",
    "    bot.answer_callback_query(callback_query_id=call.id)\n",
    "    if call.data == '1':\n",
    "      img1 = open('интеграл.jpg', 'rb')\n",
    "      bot.send_photo(call.message.chat.id, img1) \n",
    "      bot.send_message(call.message.chat.id, 'Если нужна другая таблица нажми /start')      \n",
    "    elif call.data == '2':\n",
    "      img2 = open('производная.png', 'rb')\n",
    "      bot.send_photo(call.message.chat.id, img2)\n",
    "      bot.send_message(call.message.chat.id, 'Если нужна другая таблица нажми /start')\n",
    "    elif call.data == '3':\n",
    "      img3 = open('логарифм.jpg', 'rb')\n",
    "      bot.send_photo(call.message.chat.id, img3)\n",
    "      bot.send_message(call.message.chat.id, 'Если нужна другая таблица нажми /start')\n",
    "    elif call.data == '4':\n",
    "      img4 = open('предел.png', 'rb')\n",
    "      bot.send_photo(call.message.chat.id, img4)\n",
    "      bot.send_message(call.message.chat.id, 'Если нужна другая таблица нажми /start')\n",
    "    elif call.data == '5':\n",
    "      bot.send_message(call.message.chat.id, 'Пока, что бы вернуться нажми /start')       \n",
    "\n",
    "bot.polling()"
   ]
  },
  {
   "cell_type": "code",
   "execution_count": null,
   "metadata": {
    "id": "2i2V2J2QF-gW"
   },
   "outputs": [],
   "source": []
  }
 ],
 "metadata": {
  "colab": {
   "collapsed_sections": [],
   "name": "Курсовая.ipynb",
   "provenance": []
  },
  "kernelspec": {
   "display_name": "Python 3",
   "language": "python",
   "name": "python3"
  },
  "language_info": {
   "codemirror_mode": {
    "name": "ipython",
    "version": 3
   },
   "file_extension": ".py",
   "mimetype": "text/x-python",
   "name": "python",
   "nbconvert_exporter": "python",
   "pygments_lexer": "ipython3",
   "version": "3.8.5"
  }
 },
 "nbformat": 4,
 "nbformat_minor": 1
}
