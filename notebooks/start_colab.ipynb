{
  "nbformat": 4,
  "nbformat_minor": 0,
  "metadata": {
    "colab": {
      "name": "start_colab.ipynb",
      "provenance": []
    },
    "kernelspec": {
      "name": "python3",
      "display_name": "Python 3"
    },
    "language_info": {
      "name": "python"
    }
  },
  "cells": [
    {
      "cell_type": "code",
      "metadata": {
        "id": "6AWX9xWqT9dV"
      },
      "source": [
        "!git clone https://github.com/balezz/bot_tester\n",
        "%cd bot_tester"
      ],
      "execution_count": null,
      "outputs": []
    },
    {
      "cell_type": "code",
      "metadata": {
        "id": "nsSzK-XtYJaK"
      },
      "source": [
        "!pip install deeppavlov\n",
        "!pip install transformers\n",
        "! python -m deeppavlov install bert_sentence_embedder"
      ],
      "execution_count": null,
      "outputs": []
    },
    {
      "cell_type": "code",
      "metadata": {
        "id": "T0JREgJuYoWm"
      },
      "source": [
        "! wget http://files.deeppavlov.ai/deeppavlov_data/bert/rubert_cased_L-12_H-768_A-12_pt.tar.gz\n",
        "!mkdir models\n",
        "!tar -xf rubert_cased_L-12_H-768_A-12_pt.tar.gz -C models/\n",
        "!rm rubert_cased_L-12_H-768_A-12_pt.tar.gz"
      ],
      "execution_count": null,
      "outputs": []
    },
    {
      "cell_type": "code",
      "metadata": {
        "id": "V5jyEDe-ZOh0"
      },
      "source": [
        "!python start_bot.py"
      ],
      "execution_count": null,
      "outputs": []
    }
  ]
}